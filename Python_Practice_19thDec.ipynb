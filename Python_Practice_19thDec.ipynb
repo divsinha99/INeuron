{
  "nbformat": 4,
  "nbformat_minor": 0,
  "metadata": {
    "colab": {
      "name": "Python_Practice_19thDec.ipynb",
      "provenance": [],
      "collapsed_sections": []
    },
    "kernelspec": {
      "name": "python3",
      "display_name": "Python 3"
    }
  },
  "cells": [
    {
      "cell_type": "markdown",
      "metadata": {
        "id": "49rDDmhraXy7"
      },
      "source": [
        "## Practice Task :\r\n",
        "Create a Student class which will take Name, Surname and Year of birth as input from the user. Another child class which will inherit all the attributes of Student parent class and will take School name as input.\r\n",
        "\r\n",
        "User will input number of records to be entered and all the records will be stored in a dataframe at runtime."
      ]
    },
    {
      "cell_type": "code",
      "metadata": {
        "id": "SJyKrlVbxSKs"
      },
      "source": [
        "class Student:\r\n",
        "  def __init__(self):\r\n",
        "    self.Name = input(\"Enter the Name of Student : \")\r\n",
        "    self.Surname = input(\"Enter the surname of Student : \")\r\n",
        "    self.YearOfBirth = input(\"Enter the year of birth of Student : \")\r\n",
        "  \r\n",
        "\r\n",
        "class School(Student):\r\n",
        "  def __init__(self, *args):\r\n",
        "    super().__init__(*args)\r\n",
        "    self.SchoolName = input(\"Enter the school name of Student : \")\r\n",
        "  def __str__(self):\r\n",
        "    return \"Name : \"+self.Name+\" Surname : \"+self.Surname+\" having year of birth : \"+self.YearOfBirth+\" and studying in school : \"+self.SchoolName\r\n"
      ],
      "execution_count": 23,
      "outputs": []
    },
    {
      "cell_type": "code",
      "metadata": {
        "colab": {
          "base_uri": "https://localhost:8080/",
          "height": 264
        },
        "id": "TDivXlNgJNpP",
        "outputId": "71e4d557-9223-464c-fcd3-efaddc26f69b"
      },
      "source": [
        "import pandas as pd\r\n",
        "number_of_records = input(\"Please input the number of records you want to enter : \")\r\n",
        "x=[]\r\n",
        "for i in range(0, int(number_of_records)):  \r\n",
        "  School_obj = School()\r\n",
        "  x.append(School_obj)\r\n",
        "pd.DataFrame.from_records([s.__dict__ for s in x])\r\n"
      ],
      "execution_count": 24,
      "outputs": [
        {
          "output_type": "stream",
          "text": [
            "Please input the number of records you want to enter : 2\n",
            "Enter the Name of Student : Divyo\n",
            "Enter the surname of Student : Sinha\n",
            "Enter the year of birth of Student : 27.04.1990\n",
            "Enter the school name of Student : Ineuron\n",
            "Enter the Name of Student : Anirban\n",
            "Enter the surname of Student : Ghosh\n",
            "Enter the year of birth of Student : 31.12.1990\n",
            "Enter the school name of Student : Ineuron\n"
          ],
          "name": "stdout"
        },
        {
          "output_type": "execute_result",
          "data": {
            "text/html": [
              "<div>\n",
              "<style scoped>\n",
              "    .dataframe tbody tr th:only-of-type {\n",
              "        vertical-align: middle;\n",
              "    }\n",
              "\n",
              "    .dataframe tbody tr th {\n",
              "        vertical-align: top;\n",
              "    }\n",
              "\n",
              "    .dataframe thead th {\n",
              "        text-align: right;\n",
              "    }\n",
              "</style>\n",
              "<table border=\"1\" class=\"dataframe\">\n",
              "  <thead>\n",
              "    <tr style=\"text-align: right;\">\n",
              "      <th></th>\n",
              "      <th>Name</th>\n",
              "      <th>Surname</th>\n",
              "      <th>YearOfBirth</th>\n",
              "      <th>SchoolName</th>\n",
              "    </tr>\n",
              "  </thead>\n",
              "  <tbody>\n",
              "    <tr>\n",
              "      <th>0</th>\n",
              "      <td>Divyo</td>\n",
              "      <td>Sinha</td>\n",
              "      <td>27.04.1990</td>\n",
              "      <td>Ineuron</td>\n",
              "    </tr>\n",
              "    <tr>\n",
              "      <th>1</th>\n",
              "      <td>Anirban</td>\n",
              "      <td>Ghosh</td>\n",
              "      <td>31.12.1990</td>\n",
              "      <td>Ineuron</td>\n",
              "    </tr>\n",
              "  </tbody>\n",
              "</table>\n",
              "</div>"
            ],
            "text/plain": [
              "      Name Surname YearOfBirth SchoolName\n",
              "0    Divyo   Sinha  27.04.1990    Ineuron\n",
              "1  Anirban   Ghosh  31.12.1990    Ineuron"
            ]
          },
          "metadata": {
            "tags": []
          },
          "execution_count": 24
        }
      ]
    }
  ]
}